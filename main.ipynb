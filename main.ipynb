{
 "cells": [
  {
   "cell_type": "markdown",
   "id": "7e8b5684-847b-4622-933f-6f030fb22c55",
   "metadata": {},
   "source": [
    "# Loading Data from Web Source"
   ]
  },
  {
   "cell_type": "code",
   "execution_count": 4,
   "id": "48aedc07-7212-4060-a7c7-9dc58c4cc6d9",
   "metadata": {},
   "outputs": [
    {
     "name": "stderr",
     "output_type": "stream",
     "text": [
      "── \u001b[1mAttaching packages\u001b[22m ─────────────────────────────────────── tidyverse 1.3.1 ──\n",
      "\n",
      "\u001b[32m✔\u001b[39m \u001b[34mggplot2\u001b[39m 3.3.6     \u001b[32m✔\u001b[39m \u001b[34mpurrr  \u001b[39m 0.3.4\n",
      "\u001b[32m✔\u001b[39m \u001b[34mtibble \u001b[39m 3.1.7     \u001b[32m✔\u001b[39m \u001b[34mdplyr  \u001b[39m 1.0.9\n",
      "\u001b[32m✔\u001b[39m \u001b[34mtidyr  \u001b[39m 1.2.0     \u001b[32m✔\u001b[39m \u001b[34mstringr\u001b[39m 1.4.0\n",
      "\u001b[32m✔\u001b[39m \u001b[34mreadr  \u001b[39m 2.1.2     \u001b[32m✔\u001b[39m \u001b[34mforcats\u001b[39m 0.5.1\n",
      "\n",
      "── \u001b[1mConflicts\u001b[22m ────────────────────────────────────────── tidyverse_conflicts() ──\n",
      "\u001b[31m✖\u001b[39m \u001b[34mdplyr\u001b[39m::\u001b[32mfilter()\u001b[39m masks \u001b[34mstats\u001b[39m::filter()\n",
      "\u001b[31m✖\u001b[39m \u001b[34mdplyr\u001b[39m::\u001b[32mlag()\u001b[39m    masks \u001b[34mstats\u001b[39m::lag()\n",
      "\n",
      "── \u001b[1mAttaching packages\u001b[22m ────────────────────────────────────── tidymodels 1.0.0 ──\n",
      "\n",
      "\u001b[32m✔\u001b[39m \u001b[34mbroom       \u001b[39m 1.0.0     \u001b[32m✔\u001b[39m \u001b[34mrsample     \u001b[39m 1.0.0\n",
      "\u001b[32m✔\u001b[39m \u001b[34mdials       \u001b[39m 1.0.0     \u001b[32m✔\u001b[39m \u001b[34mtune        \u001b[39m 1.0.0\n",
      "\u001b[32m✔\u001b[39m \u001b[34minfer       \u001b[39m 1.0.2     \u001b[32m✔\u001b[39m \u001b[34mworkflows   \u001b[39m 1.0.0\n",
      "\u001b[32m✔\u001b[39m \u001b[34mmodeldata   \u001b[39m 1.0.0     \u001b[32m✔\u001b[39m \u001b[34mworkflowsets\u001b[39m 1.0.0\n",
      "\u001b[32m✔\u001b[39m \u001b[34mparsnip     \u001b[39m 1.0.0     \u001b[32m✔\u001b[39m \u001b[34myardstick   \u001b[39m 1.0.0\n",
      "\u001b[32m✔\u001b[39m \u001b[34mrecipes     \u001b[39m 1.0.1     \n",
      "\n",
      "── \u001b[1mConflicts\u001b[22m ───────────────────────────────────────── tidymodels_conflicts() ──\n",
      "\u001b[31m✖\u001b[39m \u001b[34mscales\u001b[39m::\u001b[32mdiscard()\u001b[39m masks \u001b[34mpurrr\u001b[39m::discard()\n",
      "\u001b[31m✖\u001b[39m \u001b[34mdplyr\u001b[39m::\u001b[32mfilter()\u001b[39m   masks \u001b[34mstats\u001b[39m::filter()\n",
      "\u001b[31m✖\u001b[39m \u001b[34mrecipes\u001b[39m::\u001b[32mfixed()\u001b[39m  masks \u001b[34mstringr\u001b[39m::fixed()\n",
      "\u001b[31m✖\u001b[39m \u001b[34mdplyr\u001b[39m::\u001b[32mlag()\u001b[39m      masks \u001b[34mstats\u001b[39m::lag()\n",
      "\u001b[31m✖\u001b[39m \u001b[34myardstick\u001b[39m::\u001b[32mspec()\u001b[39m masks \u001b[34mreadr\u001b[39m::spec()\n",
      "\u001b[31m✖\u001b[39m \u001b[34mrecipes\u001b[39m::\u001b[32mstep()\u001b[39m   masks \u001b[34mstats\u001b[39m::step()\n",
      "\u001b[34m•\u001b[39m Search for functions across packages at \u001b[32mhttps://www.tidymodels.org/find/\u001b[39m\n",
      "\n"
     ]
    }
   ],
   "source": [
    "library(tidyverse)\n",
    "library(tidymodels)\n",
    "library(repr)\n",
    "options(repr.matrix.max.rows = 6)"
   ]
  },
  {
   "cell_type": "code",
   "execution_count": 10,
   "id": "6777fedf-26a4-459e-9a56-e88cee2e4352",
   "metadata": {},
   "outputs": [],
   "source": [
    "url <- \"https://doc-10-9o-docs.googleusercontent.com/docs/securesc/kr7kt69c2fp8jbki43hkivkoqcqkk3sr/1f4d1jfn7ppn6sniqv3mdccmqjkvqq1l/1686368775000/14376312117291304145/14376312117291304145/1jDnEMywTpQo3Svs6SBNvEsYgu4xsLT2Z?e=download&ax=ADWCPKDUrn7ErTdq6htFoPs68QAIo5EXyrk7KHRvWHOaFVi7fCvrxiLenNSqyDPcEyOzop2ev6cFBW8o81iP95u_V8EFyGT2mqDuGZ5ggI4_Tll2KLS4vrTa-0EelRLWmLjLW4UTTw4luRt7S5bbOSwi8-47b4Id16G_Jx1kh7dHuP9h5g-TIr6eEhppmK0PkOUZRlSinKKxyYcYDGwsxuyfvhn7KJZhJMUW3rUE7nQOE4Cs1NK0IsczjdjTbxxP_7sjAtw7DN_L6fzYIoxOsKSmXWEr4KIM3fA5I2F6FgLOx9HKJfpAmADx9JAU1o8qrGCJVshnQ4vHFSAJHuEIQ_I1Zf54ri8w7BI7VqYMa_5-wQ10qJXXkJIPxXLiYWn32cgoctTlKRFvTWMRIT2e9yNaMcYgrYfJJ_X2wRTXgtH2A8fYL0O79xX78vw0YqeOfPoacicGNg8oC5SgXGmUis7gdsIYYnZwcyC2GgElLjrMfjpRjPWmn9IoFKyesKzwmILpOYmT9MPejtxBQINgyfVp3EGnuTbigawtTeiTCAyrLUlsBupBAZ6gjOmHRWXZ0llUaOIDBekupa6s8J_QVotLY_75o3eP1kDddyf6KR4U072taU0hc7heUpoGzcamTP5ww-QDT81Lqb0O3yP4vQZWMwvH9cuVEC2nMzdD0kbWZZx_f-_C-0ixe5M-VoULs3RONQw02k9-hzeE3qgcp5reg54hlexG2HrUe64hKQdyEv8Y73ytUJPwiDWVJN7u2PA-4k3vxphSr4y7S1QxGcvNTQ7C2Sd2uJFN5viapt8mtEIwqQlSQXYXQqIcaH5b5uAVtSO1QegLImx70_puZCGkfU1s_ZCk4bYqzPOZfFOTFGD0MJtqUgacJs5OltaTRyviREf5jzBaPsej2eWtV11LizNLgEJT5xBu3uY_&uuid=58f2b64f-0214-4e53-845f-ffff226daba7&authuser=0&nonce=sc4r0f36dlqhq&user=14376312117291304145&hash=nsqrc61f17qrfmqs7alf7qbn9ltekdpu\"\n",
    "dir.create(\"data\")\n",
    "download.file(url, \"data/stroke.csv\")"
   ]
  },
  {
   "cell_type": "code",
   "execution_count": null,
   "id": "2894956c-877b-467e-9776-099f35da0ebc",
   "metadata": {},
   "outputs": [],
   "source": [
    "stroke <- read_csv(\"data/stroke.csv\")"
   ]
  }
 ],
 "metadata": {
  "kernelspec": {
   "display_name": "R",
   "language": "R",
   "name": "ir"
  },
  "language_info": {
   "codemirror_mode": "r",
   "file_extension": ".r",
   "mimetype": "text/x-r-source",
   "name": "R",
   "pygments_lexer": "r",
   "version": "4.1.3"
  }
 },
 "nbformat": 4,
 "nbformat_minor": 5
}

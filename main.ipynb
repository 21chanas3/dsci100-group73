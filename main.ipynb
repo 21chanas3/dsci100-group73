{
 "cells": [
  {
   "cell_type": "markdown",
   "id": "5f7491b9-e8db-458b-ac56-2c4b120106d7",
   "metadata": {
    "tags": []
   },
   "source": [
    "# Introduction\n",
    "## Background\n",
    "According to the National Cancer Institute, a stroke occurs when brain tissue is damaged due to a loss of blood flow to parts of the brain [1]. Worldwide, strokes are responsible for an annual mortality rate of 5.5 million. This makes it the 2nd leading cause of death. After the age of 55, the risk of a stroke doubles every decade, making age the strongest determinant. The leading risk factor of stroke is hypertension in both developing and developed nations [2].\n",
    "\n",
    "## Question\n",
    "Can we accurately predict the likelihood of a stroke in a patient given a set of clinical features ?\n",
    "\n",
    "## Dataset description\n",
    "The dataset that will be used is the Stroke Prediction Dataset, available via [Kaggle](https://www.kaggle.com/datasets/fedesoriano/stroke-prediction-dataset), it consists of 5110 observation with 12 different variables including gender, age, hypertension, heart disease, marriage status, type of work (self-employed/private/children/government/never worked ), residence (rural or urban), average glucose levels, BMI, smoking status, and whether the patient has ever had a stroke."
   ]
  },
  {
   "cell_type": "markdown",
   "id": "da91bc18-9f69-45e9-b013-c64fde573437",
   "metadata": {
    "tags": []
   },
   "source": [
    "# Preliminary exploratory data analysis"
   ]
  },
  {
   "cell_type": "markdown",
   "id": "fb563e18-29dc-473a-872f-f6b66966e37f",
   "metadata": {
    "tags": []
   },
   "source": [
    "# Methodology\n",
    "We will be performing a classification analysis to predict if a patient will have a stroke using these predictors:\n",
    "| Variable               | Description                                                                  |\n",
    "|------------------------|------------------------------------------------------------------------------|\n",
    "| Gender                 | Whether the patient is a Male or Female                                      |\n",
    "| Age                    | Age of the patient                                                           |\n",
    "| Hypertension           | Whether the patient has been diagnosed with hypertension                     |\n",
    "| Heart disease          | Whether the patient has been diagnosed with heart disease                    |\n",
    "| Residence              | Whether the patient lives in a rural or urban area                           |\n",
    "| Average glucose levels | Average glucose level in blood [mg/dL]                                       |\n",
    "| BMI                    | Body mass index                                                              |\n",
    "| Smoking status         | Whether the patient is a former smoker, has never smoked or currently smokes |\n",
    "| Stroke                 | Whether the patient has had a stroke                                         |\n",
    "\n",
    "We have opted to not use the following variables/column in our analysis:\n",
    "- `ever_married`: This boolean column describes whether the individual has ever been married. We do not feel as though this is a strong indicator of stroke and/or general health outcomes.\n",
    "- `work_type`: This column held the following possible values: `{Private, Self-employed, Govt_job}`. We did not feel as though the level at which this data was collected would contribute to predicting stroke - perhaps if this was separated between jobs that require manual labor (“blue-collar” jobs) vs. desk jobs (“white-collar” jobs) it could have been more useful.\n",
    "\n",
    "## Possible visualizations\n",
    "- **Bar charts** can be used to visualize the distribution of gender, hypertension, heart disease and other among stroke and non-stroke groups\n",
    "- **Scatter plots** can be used to visualize relationships between age, average glucose levels, or BMI, with stroke occurrence as the color of the point\n",
    "- **Heatmaps** can be used in combination with scatter plots to better visualize the different weights points can have within our predictive model"
   ]
  },
  {
   "cell_type": "markdown",
   "id": "f6ae770f-c239-4491-9bf9-cba752f0488a",
   "metadata": {
    "jp-MarkdownHeadingCollapsed": true,
    "tags": []
   },
   "source": [
    "# Expected outcomes and significance\n",
    "## What do we expect to find\n",
    "There is quite a bit of research being done on the risk factors of stroke; however, there is not a consensus on this. For example, (this study)[https://www.ncbi.nlm.nih.gov/pmc/articles/PMC2734855/] states that “smoking amplifies the positive association between BMI and CHD but not stroke” [3] conversely there are others studies who indicate that smoking “demonstrate[s] a strong association between smoking and stroke risk, with current smokers having at least a two- to fourfold increased risk of stroke”[4]. On the other hand, the notion of BMI being a good predictor of health is falling out of favor as of late. This is due to a conflict in findings which tell us that all cause mortality and BMI are strongly related [5], but higher levels of lean mass, which BMI fails to distinguish with fat mass [6], is inversely associated with mortality [7, 8]. We hope to discover a relationship between these factors (amongst others) on the risk of stroke in this dataset.\n",
    "\n",
    "## Impacts of our findings\n",
    "- **Early Intervention**: By being able to predict stroke risks, healthcare providers can better identify individuals who are at a higher risk of stroke before the deadly event happens. Early identification has the potential to significantly reduce the occurrence of strokes and further complication by allowing individuals to develop personalized treatment plans with medical professionals to improve their quality of life to minimize the chance.\n",
    "- **Education + Awareness**: Our findings could be used to educate future generations of the risk factors that can lead to having a stroke. This can encourage them to live a healthier and positive lifestyle. Provides individuals, who may have risk factors that are genetic and not lifestyle, a better understanding of their risks. This will also benefit policy making, for example if the model identifies smoking as a strong predictor of a stroke, people in public health can prioritize initiatives that better control smoking.\n",
    "\n",
    "## What future questions could this lead to\n",
    "One key area for future exploration is the generalizability of the model in real-word scenarios. This is specifically important in the case if insurance companies/governments decide to use this technology as if the model isn’t generalizable it may lead to unfair outcomes and discriminate or have biases based on the original sample demographic it was trained with. As refined and well-trained the model can be, it's crucial to consider the potential exception and variation that arise due to the oddities of human biology and environmental factors. Therefore this research can lead to future research focusing on assessing the models ability across different populations in the world and healthcare systems."
   ]
  },
  {
   "cell_type": "markdown",
   "id": "389352dc-4455-45a9-a493-8af55c6f8b3b",
   "metadata": {
    "jp-MarkdownHeadingCollapsed": true,
    "tags": []
   },
   "source": [
    "# References\n",
    "- [1] https://www.cancer.gov/publications/dictionaries/cancer-terms/def/stroke\n",
    "- [2] https://www.ncbi.nlm.nih.gov/pmc/articles/PMC6288566/\n",
    "- [3] https://www.ncbi.nlm.nih.gov/pmc/articles/PMC2734855/\n",
    "-[4] https://www.ncbi.nlm.nih.gov/pmc/articles/PMC2928253/\n",
    "[5] https://www.thelancet.com/journals/landia/article/PIIS2213-8587(18)30288-2/fulltext\n",
    "[6] https://www.sciencedirect.com/science/article/pii/S2405525521000017\n",
    "[7] https://www.ncbi.nlm.nih.gov/pmc/articles/PMC6348595/\n",
    "[8] https://www.medicalnewstoday.com/articles/265215"
   ]
  },
  {
   "cell_type": "markdown",
   "id": "7e8b5684-847b-4622-933f-6f030fb22c55",
   "metadata": {
    "tags": []
   },
   "source": [
    "# Loading Data and Dependencies"
   ]
  },
  {
   "cell_type": "code",
   "execution_count": 1,
   "id": "48aedc07-7212-4060-a7c7-9dc58c4cc6d9",
   "metadata": {},
   "outputs": [
    {
     "name": "stderr",
     "output_type": "stream",
     "text": [
      "── \u001b[1mAttaching packages\u001b[22m ─────────────────────────────────────── tidyverse 1.3.1 ──\n",
      "\n",
      "\u001b[32m✔\u001b[39m \u001b[34mggplot2\u001b[39m 3.3.6     \u001b[32m✔\u001b[39m \u001b[34mpurrr  \u001b[39m 0.3.4\n",
      "\u001b[32m✔\u001b[39m \u001b[34mtibble \u001b[39m 3.1.7     \u001b[32m✔\u001b[39m \u001b[34mdplyr  \u001b[39m 1.0.9\n",
      "\u001b[32m✔\u001b[39m \u001b[34mtidyr  \u001b[39m 1.2.0     \u001b[32m✔\u001b[39m \u001b[34mstringr\u001b[39m 1.4.0\n",
      "\u001b[32m✔\u001b[39m \u001b[34mreadr  \u001b[39m 2.1.2     \u001b[32m✔\u001b[39m \u001b[34mforcats\u001b[39m 0.5.1\n",
      "\n",
      "── \u001b[1mConflicts\u001b[22m ────────────────────────────────────────── tidyverse_conflicts() ──\n",
      "\u001b[31m✖\u001b[39m \u001b[34mdplyr\u001b[39m::\u001b[32mfilter()\u001b[39m masks \u001b[34mstats\u001b[39m::filter()\n",
      "\u001b[31m✖\u001b[39m \u001b[34mdplyr\u001b[39m::\u001b[32mlag()\u001b[39m    masks \u001b[34mstats\u001b[39m::lag()\n",
      "\n",
      "── \u001b[1mAttaching packages\u001b[22m ────────────────────────────────────── tidymodels 1.0.0 ──\n",
      "\n",
      "\u001b[32m✔\u001b[39m \u001b[34mbroom       \u001b[39m 1.0.0     \u001b[32m✔\u001b[39m \u001b[34mrsample     \u001b[39m 1.0.0\n",
      "\u001b[32m✔\u001b[39m \u001b[34mdials       \u001b[39m 1.0.0     \u001b[32m✔\u001b[39m \u001b[34mtune        \u001b[39m 1.0.0\n",
      "\u001b[32m✔\u001b[39m \u001b[34minfer       \u001b[39m 1.0.2     \u001b[32m✔\u001b[39m \u001b[34mworkflows   \u001b[39m 1.0.0\n",
      "\u001b[32m✔\u001b[39m \u001b[34mmodeldata   \u001b[39m 1.0.0     \u001b[32m✔\u001b[39m \u001b[34mworkflowsets\u001b[39m 1.0.0\n",
      "\u001b[32m✔\u001b[39m \u001b[34mparsnip     \u001b[39m 1.0.0     \u001b[32m✔\u001b[39m \u001b[34myardstick   \u001b[39m 1.0.0\n",
      "\u001b[32m✔\u001b[39m \u001b[34mrecipes     \u001b[39m 1.0.1     \n",
      "\n",
      "── \u001b[1mConflicts\u001b[22m ───────────────────────────────────────── tidymodels_conflicts() ──\n",
      "\u001b[31m✖\u001b[39m \u001b[34mscales\u001b[39m::\u001b[32mdiscard()\u001b[39m masks \u001b[34mpurrr\u001b[39m::discard()\n",
      "\u001b[31m✖\u001b[39m \u001b[34mdplyr\u001b[39m::\u001b[32mfilter()\u001b[39m   masks \u001b[34mstats\u001b[39m::filter()\n",
      "\u001b[31m✖\u001b[39m \u001b[34mrecipes\u001b[39m::\u001b[32mfixed()\u001b[39m  masks \u001b[34mstringr\u001b[39m::fixed()\n",
      "\u001b[31m✖\u001b[39m \u001b[34mdplyr\u001b[39m::\u001b[32mlag()\u001b[39m      masks \u001b[34mstats\u001b[39m::lag()\n",
      "\u001b[31m✖\u001b[39m \u001b[34myardstick\u001b[39m::\u001b[32mspec()\u001b[39m masks \u001b[34mreadr\u001b[39m::spec()\n",
      "\u001b[31m✖\u001b[39m \u001b[34mrecipes\u001b[39m::\u001b[32mstep()\u001b[39m   masks \u001b[34mstats\u001b[39m::step()\n",
      "\u001b[34m•\u001b[39m Use suppressPackageStartupMessages() to eliminate package startup messages\n",
      "\n"
     ]
    }
   ],
   "source": [
    "library(tidyverse)\n",
    "library(tidymodels)\n",
    "library(repr)\n",
    "options(repr.matrix.max.rows = 6)"
   ]
  },
  {
   "cell_type": "code",
   "execution_count": 2,
   "id": "6777fedf-26a4-459e-9a56-e88cee2e4352",
   "metadata": {},
   "outputs": [],
   "source": [
    "url <- \"https://raw.githubusercontent.com/21chanas3/dsci100-group73/c9c58b88eca13be20286f8bf70dce4668b878247/data/healthcare-dataset-stroke-data.csv\"\n",
    "if (!dir.exists(\"data\")) {\n",
    "    dir.create(\"data\")\n",
    "}\n",
    "download.file(url, \"data/stroke.csv\")"
   ]
  },
  {
   "cell_type": "code",
   "execution_count": 3,
   "id": "2894956c-877b-467e-9776-099f35da0ebc",
   "metadata": {},
   "outputs": [
    {
     "name": "stderr",
     "output_type": "stream",
     "text": [
      "\u001b[1mRows: \u001b[22m\u001b[34m5110\u001b[39m \u001b[1mColumns: \u001b[22m\u001b[34m12\u001b[39m\n",
      "\u001b[36m──\u001b[39m \u001b[1mColumn specification\u001b[22m \u001b[36m────────────────────────────────────────────────────────\u001b[39m\n",
      "\u001b[1mDelimiter:\u001b[22m \",\"\n",
      "\u001b[31mchr\u001b[39m (6): gender, ever_married, work_type, Residence_type, bmi, smoking_status\n",
      "\u001b[32mdbl\u001b[39m (6): id, age, hypertension, heart_disease, avg_glucose_level, stroke\n",
      "\n",
      "\u001b[36mℹ\u001b[39m Use `spec()` to retrieve the full column specification for this data.\n",
      "\u001b[36mℹ\u001b[39m Specify the column types or set `show_col_types = FALSE` to quiet this message.\n"
     ]
    }
   ],
   "source": [
    "stroke <- read_csv(\"data/stroke.csv\")"
   ]
  },
  {
   "cell_type": "markdown",
   "id": "1f754cd7-2dc6-4c55-890e-6ff0bb567895",
   "metadata": {},
   "source": [
    "# Cleaning and Wrangling"
   ]
  },
  {
   "cell_type": "code",
   "execution_count": 9,
   "id": "06c854fe-e774-4bbe-8d9b-96c14cd5fb5e",
   "metadata": {},
   "outputs": [],
   "source": [
    "#Rename columns to all lowercase\n",
    "stroke_colnames <- stroke |> colnames() |> make.names() |> tolower()\n",
    "colnames(stroke) <- stroke_colnames"
   ]
  },
  {
   "cell_type": "code",
   "execution_count": 11,
   "id": "84b22963-55d2-425b-852a-0f32979b3461",
   "metadata": {},
   "outputs": [],
   "source": [
    "#Convert things to factors\n",
    "stroke <- stroke |> mutate(gender = as_factor(gender), \n",
    "                 work_type = as_factor(work_type), \n",
    "                 residence_type = as_factor(residence_type), \n",
    "                 smoking_status = as_factor(smoking_status))"
   ]
  },
  {
   "cell_type": "code",
   "execution_count": 6,
   "id": "c3466ab9-016e-4400-be94-120e62cec784",
   "metadata": {},
   "outputs": [
    {
     "name": "stderr",
     "output_type": "stream",
     "text": [
      "Warning message in mask$eval_all_mutate(quo):\n",
      "“NAs introduced by coercion”\n"
     ]
    }
   ],
   "source": [
    "#For some reason bmi is of type char probably because of N/A, converting to double here\n",
    "stroke <- stroke |> mutate(bmi = as.numeric(as.character(bmi)))"
   ]
  },
  {
   "cell_type": "code",
   "execution_count": 7,
   "id": "ed5d3819-46e6-471f-aba5-522ed2ed4317",
   "metadata": {},
   "outputs": [],
   "source": [
    "#Creating test/train split here\n",
    "stroke_split <- initial_split(stroke, prop = 0.8, strata = stroke)\n",
    "stroke_training <- training(stroke_split)\n",
    "stroking_testing <- testing(stroke_split)"
   ]
  },
  {
   "cell_type": "code",
   "execution_count": null,
   "id": "382507e7-6c0a-4ae6-ae0b-8cd881541502",
   "metadata": {},
   "outputs": [],
   "source": []
  }
 ],
 "metadata": {
  "kernelspec": {
   "display_name": "R",
   "language": "R",
   "name": "ir"
  },
  "language_info": {
   "codemirror_mode": "r",
   "file_extension": ".r",
   "mimetype": "text/x-r-source",
   "name": "R",
   "pygments_lexer": "r",
   "version": "4.1.3"
  }
 },
 "nbformat": 4,
 "nbformat_minor": 5
}
